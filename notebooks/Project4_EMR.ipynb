{
  "nbformat": 4,
  "nbformat_minor": 0,
  "metadata": {
    "colab": {
      "provenance": []
    },
    "kernelspec": {
      "name": "python3",
      "display_name": "Python 3"
    },
    "language_info": {
      "name": "python"
    }
  },
  "cells": [
    {
      "cell_type": "code",
      "execution_count": 3,
      "metadata": {
        "id": "zzsr60w_MohP"
      },
      "outputs": [],
      "source": [
        "from pyspark.sql import SparkSession\n",
        "from pyspark.sql.functions import *\n",
        "from pyspark.sql.types import *"
      ]
    },
    {
      "cell_type": "code",
      "source": [
        "spark = SparkSession.builder.appName('EMR').getOrCreate()"
      ],
      "metadata": {
        "id": "nGnl1efVOVbn"
      },
      "execution_count": 4,
      "outputs": []
    },
    {
      "cell_type": "markdown",
      "source": [
        "## Schema Definintion"
      ],
      "metadata": {
        "id": "ziyiO2VdPnBg"
      }
    },
    {
      "cell_type": "code",
      "source": [
        "# Schema definition for the datasets\n",
        "\n",
        "# users schema\n",
        "users_schema = StructType([\n",
        "    StructField(\"user_id\", StringType(), True),\n",
        "    StructField(\"first_name\", StringType(), True),\n",
        "    StructField(\"last_name\", StringType(), True),\n",
        "    StructField(\"email\", StringType(), True),\n",
        "    StructField(\"phone_number\", StringType(), True),\n",
        "    StructField(\"driver_license_number\", StringType(), True),\n",
        "    StructField(\"driver_license_expiry\", DateType(),True),\n",
        "    StructField(\"creation_date\", DateType(),True),\n",
        "    StructField(\"is_active\", IntegerType(),True),\n",
        "])\n",
        "\n",
        "# vehicles schema\n",
        "vehicles_schema = StructType([\n",
        "    StructField(\"active\", IntegerType(), True),\n",
        "    StructField(\"vehicle_license_number\", IntegerType(), True),\n",
        "    StructField(\"registration_name\", StringType(), True),\n",
        "    StructField(\"license_type\", StringType(), True),\n",
        "    StructField(\"expiration_date\", StringType(), True),\n",
        "    StructField(\"permit_license_number\", StringType(), True),\n",
        "    StructField(\"certification_date\", StringType(), True),\n",
        "    StructField(\"vehicle_year\", IntegerType(), True),\n",
        "    StructField(\"base_telephone_number\", StringType(), True),\n",
        "    StructField(\"base_address\", StringType(), True),\n",
        "    StructField(\"vehicle_id\", StringType(), True),\n",
        "    StructField(\"last_update_timestamp\", StringType(), True),\n",
        "    StructField(\"brand\", StringType(), True),\n",
        "    StructField(\"vehicle_type\", StringType(), True),\n",
        "])\n",
        "\n",
        "# locations schema\n",
        "locations_schema = StructType([\n",
        "    StructField(\"location_id\", StringType(), True),\n",
        "    StructField(\"location_name\", StringType(), True),\n",
        "    StructField(\"address\", StringType(), True),\n",
        "    StructField(\"city\", StringType(), True),\n",
        "    StructField(\"state\", StringType(), True),\n",
        "    StructField(\"zip_code\", StringType(), True),\n",
        "    StructField(\"latitude\", FloatType(), True),\n",
        "    StructField(\"longitude\", FloatType(), True),\n",
        "])\n",
        "\n",
        "# rental locations schema\n",
        "rental_transactions_schema = StructType([\n",
        "    StructField(\"rental_id\", StringType(), True),\n",
        "    StructField(\"user_id\", StringType(), True),\n",
        "    StructField(\"vehicle_id\", StringType(), True),\n",
        "    StructField(\"rental_start_time\", StringType(), True),\n",
        "    StructField(\"rental_end_time\", StringType(), True),\n",
        "    StructField(\"pickup_location\", IntegerType(), True),\n",
        "    StructField(\"dropoff_location\", IntegerType(), True),\n",
        "    StructField(\"total_amount\", DoubleType(), True)\n",
        "])"
      ],
      "metadata": {
        "id": "pt6X2cL4OZ6G"
      },
      "execution_count": 34,
      "outputs": []
    },
    {
      "cell_type": "markdown",
      "source": [
        "## Loading Data"
      ],
      "metadata": {
        "id": "0L63PHOJPptf"
      }
    },
    {
      "cell_type": "code",
      "source": [
        "# Loading the data\n",
        "users_df = spark.read.csv(\"/content/users.csv\", header=True, schema=users_schema)\n",
        "vehicles_df = spark.read.csv(\"/content/vehicles.csv\", header=True, schema=vehicles_schema)\n",
        "locations_df = spark.read.csv(\"/content/locations.csv\", header=True, schema=locations_schema)\n",
        "rental_txn_df = spark.read.csv(\"/content/rental_transactions.csv\", header=True, schema=rental_transactions_schema)"
      ],
      "metadata": {
        "id": "EuvlUbNsPGE-"
      },
      "execution_count": 35,
      "outputs": []
    },
    {
      "cell_type": "code",
      "source": [
        "def inspect_data(df):\n",
        "  # print schema with head\n",
        "  df.printSchema()\n",
        "  df.show(5)"
      ],
      "metadata": {
        "id": "yxU9pjRfPRdw"
      },
      "execution_count": 36,
      "outputs": []
    },
    {
      "cell_type": "code",
      "source": [
        "inspect_data(users_df)"
      ],
      "metadata": {
        "colab": {
          "base_uri": "https://localhost:8080/"
        },
        "id": "K1NXXFpqPWBd",
        "outputId": "6b5c0382-04dc-412c-d8c6-9b61b8add781"
      },
      "execution_count": 37,
      "outputs": [
        {
          "output_type": "stream",
          "name": "stdout",
          "text": [
            "root\n",
            " |-- user_id: string (nullable = true)\n",
            " |-- first_name: string (nullable = true)\n",
            " |-- last_name: string (nullable = true)\n",
            " |-- email: string (nullable = true)\n",
            " |-- phone_number: string (nullable = true)\n",
            " |-- driver_license_number: string (nullable = true)\n",
            " |-- driver_license_expiry: date (nullable = true)\n",
            " |-- creation_date: date (nullable = true)\n",
            " |-- is_active: integer (nullable = true)\n",
            "\n",
            "+----------+----------+---------+--------------------+------------------+---------------------+---------------------+-------------+---------+\n",
            "|   user_id|first_name|last_name|               email|      phone_number|driver_license_number|driver_license_expiry|creation_date|is_active|\n",
            "+----------+----------+---------+--------------------+------------------+---------------------+---------------------+-------------+---------+\n",
            "|26d08ab733|      Lisa|   Parker|lisa.parker@gmail...|334.271.2972x60554|             MO028963|           2033-06-21|   2024-05-26|        1|\n",
            "|0a0430e6f9|  Courtney|   Martin|courtney.martin@y...|  826-262-0518x252|             VW966518|           2028-09-28|   2024-05-22|        0|\n",
            "|eb5d10cccd|    Andrew|  Mcclain|andrew.mcclain@ho...|   +1-467-858-1702|             WL839491|           2028-09-01|   2024-01-29|        1|\n",
            "|2a59127ee0|   Michael|   Hoover|michael.hoover@ya...|  001-220-342-6250|             UI603163|           2028-11-29|   2024-03-22|        1|\n",
            "|e3a46a2a11|     Molly|   Brooks|molly.brooks@yaho...|   +1-595-498-7645|             BJ158232|           2025-01-24|   2024-03-02|        1|\n",
            "+----------+----------+---------+--------------------+------------------+---------------------+---------------------+-------------+---------+\n",
            "only showing top 5 rows\n",
            "\n"
          ]
        }
      ]
    },
    {
      "cell_type": "code",
      "source": [
        "inspect_data(vehicles_df)"
      ],
      "metadata": {
        "colab": {
          "base_uri": "https://localhost:8080/"
        },
        "id": "_PPEql-IRwEP",
        "outputId": "ca198a80-d0f3-49c0-b5ec-ffe40c366701"
      },
      "execution_count": 38,
      "outputs": [
        {
          "output_type": "stream",
          "name": "stdout",
          "text": [
            "root\n",
            " |-- active: integer (nullable = true)\n",
            " |-- vehicle_license_number: integer (nullable = true)\n",
            " |-- registration_name: string (nullable = true)\n",
            " |-- license_type: string (nullable = true)\n",
            " |-- expiration_date: string (nullable = true)\n",
            " |-- permit_license_number: string (nullable = true)\n",
            " |-- certification_date: string (nullable = true)\n",
            " |-- vehicle_year: integer (nullable = true)\n",
            " |-- base_telephone_number: string (nullable = true)\n",
            " |-- base_address: string (nullable = true)\n",
            " |-- vehicle_id: string (nullable = true)\n",
            " |-- last_update_timestamp: string (nullable = true)\n",
            " |-- brand: string (nullable = true)\n",
            " |-- vehicle_type: string (nullable = true)\n",
            "\n",
            "+------+----------------------+--------------------+----------------+---------------+---------------------+------------------+------------+---------------------+--------------------+----------+---------------------+---------+------------+\n",
            "|active|vehicle_license_number|   registration_name|    license_type|expiration_date|permit_license_number|certification_date|vehicle_year|base_telephone_number|        base_address|vehicle_id|last_update_timestamp|    brand|vehicle_type|\n",
            "+------+----------------------+--------------------+----------------+---------------+---------------------+------------------+------------+---------------------+--------------------+----------+---------------------+---------+------------+\n",
            "|     1|               5818886|CITY,LIVERY,LEASI...|FOR HIRE VEHICLE|     27-09-2025|             6EPABCVK|        2018-01-09|        2018|        (646)780-0129|1515 THIRD STREET...|67789f742d|  04-06-2024 13:25:00|  Ferrari|    high_end|\n",
            "|     1|               5520432|    FERNANDEZ,JOSE,A|FOR HIRE VEHICLE|     08-01-2026|             IC0VQ8EC|        2015-01-21|        2015|        (646)780-0129|1515 THIRD STREET...|70e8c42e4f|  04-06-2024 13:25:00|      BMW|     premium|\n",
            "|     1|               5790608| RIGO,LIMO-AUTO,CORP|FOR HIRE VEHICLE|     19-06-2025|             AGTGT62I|        2020-03-31|        2020|        (646)780-0129|1515 THIRD STREET...|aa2522d199|  04-06-2024 13:25:00|   Toyota|       basic|\n",
            "|     1|               6045671|    NARZIEV,LAZIZJON|FOR HIRE VEHICLE|     22-11-2025|             OO9QLG6E|        2022-11-09|        2022|        (646)780-0129|1515 THIRD STREET...|0984531ace|  04-06-2024 13:25:00|Chevrolet|       basic|\n",
            "|     1|               6022074|         YAQOOB,SAAD|FOR HIRE VEHICLE|     05-04-2025|             3U109JZC|        2018-11-29|        2018|        (646)780-0129|1515 THIRD STREET...|1ee2538be7|  04-06-2024 13:25:00|    Tesla|    high_end|\n",
            "+------+----------------------+--------------------+----------------+---------------+---------------------+------------------+------------+---------------------+--------------------+----------+---------------------+---------+------------+\n",
            "only showing top 5 rows\n",
            "\n"
          ]
        }
      ]
    },
    {
      "cell_type": "code",
      "source": [
        "inspect_data(locations_df)"
      ],
      "metadata": {
        "colab": {
          "base_uri": "https://localhost:8080/"
        },
        "id": "h0AumIDGR99i",
        "outputId": "6dfa9221-c9d4-4a35-89e1-edfa2021ef6e"
      },
      "execution_count": 28,
      "outputs": [
        {
          "output_type": "stream",
          "name": "stdout",
          "text": [
            "root\n",
            " |-- location_id: string (nullable = true)\n",
            " |-- location_name: string (nullable = true)\n",
            " |-- address: string (nullable = true)\n",
            " |-- city: string (nullable = true)\n",
            " |-- state: string (nullable = true)\n",
            " |-- zip_code: string (nullable = true)\n",
            " |-- latitude: float (nullable = true)\n",
            " |-- longitude: float (nullable = true)\n",
            "\n",
            "+-----------+--------------------+--------------------+---------+-----+--------+----------+----------+\n",
            "|location_id|       location_name|             address|     city|state|zip_code|  latitude| longitude|\n",
            "+-----------+--------------------+--------------------+---------+-----+--------+----------+----------+\n",
            "|       2702|Jackson, Velazque...|3140 Heath Radial...|  Modesto|   CA|   94540|  86.25802| -169.2448|\n",
            "|       4380|            Bean LLC|51144 Patrick Isl...|  Fontana|   CA|   92188|-74.455894| -42.27988|\n",
            "|       7709|     Gilbert-Simmons|    4738 Lewis Locks|Roseville|   CA|   91032| -65.43093| -64.76349|\n",
            "|       8607|    Coleman-Robinson|  324 Robin Causeway|  Modesto|   CA|   93714|-64.281075| -77.66963|\n",
            "|       5499|        Deleon Group|    51725 Evans View|Roseville|   CA|   91849| 18.495157|-154.76578|\n",
            "+-----------+--------------------+--------------------+---------+-----+--------+----------+----------+\n",
            "only showing top 5 rows\n",
            "\n"
          ]
        }
      ]
    },
    {
      "cell_type": "code",
      "source": [
        "inspect_data(rental_txn_df)"
      ],
      "metadata": {
        "colab": {
          "base_uri": "https://localhost:8080/"
        },
        "id": "lX3DPj8TWCUZ",
        "outputId": "ddde59bb-ff36-4333-f6db-6e7d748edb93"
      },
      "execution_count": 29,
      "outputs": [
        {
          "output_type": "stream",
          "name": "stdout",
          "text": [
            "root\n",
            " |-- rental_id: string (nullable = true)\n",
            " |-- user_id: string (nullable = true)\n",
            " |-- vehicle_id: string (nullable = true)\n",
            " |-- rental_start_time: string (nullable = true)\n",
            " |-- rental_end_time: string (nullable = true)\n",
            " |-- pickup_location: integer (nullable = true)\n",
            " |-- dropoff_location: integer (nullable = true)\n",
            " |-- total_amount: double (nullable = true)\n",
            "\n",
            "+----------+----------+----------+-------------------+-------------------+---------------+----------------+------------+\n",
            "| rental_id|   user_id|vehicle_id|  rental_start_time|    rental_end_time|pickup_location|dropoff_location|total_amount|\n",
            "+----------+----------+----------+-------------------+-------------------+---------------+----------------+------------+\n",
            "|b139d8e1b2|320be8068b|0d52304987|2024-02-28 08:05:00|2024-03-01 05:05:00|           1497|            6785|       450.0|\n",
            "|7afd60f6d3|320be8068b|975d72985c|2024-01-07 20:16:00|2024-01-09 21:16:00|           5345|            2608|      2450.0|\n",
            "|733a9361bc|8f31b734a6|0d9f0f0fb9|2024-01-07 09:36:00|2024-01-07 17:36:00|           2546|            5442|        80.0|\n",
            "|6e546b69dd|8f31b734a6|967fdab45e|2024-01-05 11:30:00|2024-01-07 04:30:00|           8147|            4380|      2050.0|\n",
            "|acc192b64a|8f31b734a6|32d58ea4b7|2024-03-06 18:19:00|2024-03-09 14:19:00|           6290|            8932|      1360.0|\n",
            "+----------+----------+----------+-------------------+-------------------+---------------+----------------+------------+\n",
            "only showing top 5 rows\n",
            "\n"
          ]
        }
      ]
    },
    {
      "cell_type": "code",
      "source": [
        "# Checking for null values\n",
        "print(\"Null values in users data:\")\n",
        "users_df.select([count(when(col(c).isNull(), c)).alias(c) for c in users_df.columns]).show()\n",
        "print(\"Null values in vehicles data:\")\n",
        "vehicles_df.select([count(when(col(c).isNull(), c)).alias(c) for c in vehicles_df.columns]).show()\n",
        "print(\"Null values in locations data:\")\n",
        "locations_df.select([count(when(col(c).isNull(), c)).alias(c) for c in locations_df.columns]).show()\n",
        "print(\"Null values in rental transactions data:\")\n",
        "rental_txn_df.select([count(when(col(c).isNull(), c)).alias(c) for c in rental_txn_df.columns]).show()"
      ],
      "metadata": {
        "colab": {
          "base_uri": "https://localhost:8080/"
        },
        "collapsed": true,
        "id": "J8SRFUBaWQFT",
        "outputId": "f2db4c73-58eb-494f-f505-6a694a6fdb01"
      },
      "execution_count": 31,
      "outputs": [
        {
          "output_type": "stream",
          "name": "stdout",
          "text": [
            "Null values in users data:\n",
            "+-------+----------+---------+-----+------------+---------------------+---------------------+-------------+---------+\n",
            "|user_id|first_name|last_name|email|phone_number|driver_license_number|driver_license_expiry|creation_date|is_active|\n",
            "+-------+----------+---------+-----+------------+---------------------+---------------------+-------------+---------+\n",
            "|      0|         0|        0|    0|           0|                    0|                    0|            0|        0|\n",
            "+-------+----------+---------+-----+------------+---------------------+---------------------+-------------+---------+\n",
            "\n",
            "Null values in vehicles data:\n",
            "+------+----------------------+-----------------+------------+---------------+---------------------+------------------+------------+---------------------+------------+----------+---------------------+-----+------------+\n",
            "|active|vehicle_license_number|registration_name|license_type|expiration_date|permit_license_number|certification_date|vehicle_year|base_telephone_number|base_address|vehicle_id|last_update_timestamp|brand|vehicle_type|\n",
            "+------+----------------------+-----------------+------------+---------------+---------------------+------------------+------------+---------------------+------------+----------+---------------------+-----+------------+\n",
            "|     0|                  1175|                0|           0|              0|                    0|                 0|           0|                    0|           0|         0|                    0|    0|           0|\n",
            "+------+----------------------+-----------------+------------+---------------+---------------------+------------------+------------+---------------------+------------+----------+---------------------+-----+------------+\n",
            "\n",
            "Null values in locations data:\n",
            "+-----------+-------------+-------+----+-----+--------+--------+---------+\n",
            "|location_id|location_name|address|city|state|zip_code|latitude|longitude|\n",
            "+-----------+-------------+-------+----+-----+--------+--------+---------+\n",
            "|          0|            0|      0|   0|    0|       0|       0|        0|\n",
            "+-----------+-------------+-------+----+-----+--------+--------+---------+\n",
            "\n",
            "Null values in rental transactions data:\n",
            "+---------+-------+----------+-----------------+---------------+---------------+----------------+------------+\n",
            "|rental_id|user_id|vehicle_id|rental_start_time|rental_end_time|pickup_location|dropoff_location|total_amount|\n",
            "+---------+-------+----------+-----------------+---------------+---------------+----------------+------------+\n",
            "|        0|      0|         0|                0|              0|              0|               0|           0|\n",
            "+---------+-------+----------+-----------------+---------------+---------------+----------------+------------+\n",
            "\n"
          ]
        }
      ]
    },
    {
      "cell_type": "code",
      "source": [
        "# print rows that contain null values in vehicles_df in any of them columns\n",
        "vehicles_df.where(col(\"vehicle_license_number\").isNull()).show()"
      ],
      "metadata": {
        "colab": {
          "base_uri": "https://localhost:8080/"
        },
        "collapsed": true,
        "id": "SYmkXL7cZX_F",
        "outputId": "e82c1949-30a7-4514-ae0a-0ddf63eb92e6"
      },
      "execution_count": 33,
      "outputs": [
        {
          "output_type": "stream",
          "name": "stdout",
          "text": [
            "+------+----------------------+--------------------+----------------+---------------+---------------------+------------------+------------+---------------------+--------------------+----------+---------------------+-------------+------------+\n",
            "|active|vehicle_license_number|   registration_name|    license_type|expiration_date|permit_license_number|certification_date|vehicle_year|base_telephone_number|        base_address|vehicle_id|last_update_timestamp|        brand|vehicle_type|\n",
            "+------+----------------------+--------------------+----------------+---------------+---------------------+------------------+------------+---------------------+--------------------+----------+---------------------+-------------+------------+\n",
            "|     1|                  NULL|ROYAL,MONGER,TRAN...|FOR HIRE VEHICLE|     01-05-2025|             AQG7ONJG|        2018-05-20|        2018|        (646)780-0129|1515 THIRD STREET...|b88a97d40f|  04-06-2024 13:25:00|    Chevrolet|       basic|\n",
            "|     1|                  NULL|        ALI,MUHAMMAD|FOR HIRE VEHICLE|     22-04-2025|             DRR9KM0H|        2024-10-06|        2024|        (800)828-6140|21-03   44 AVENUE...|eb38f1afa2|  04-06-2024 13:25:00|      Bentley|    high_end|\n",
            "|     1|                  NULL|      LUNA,RAFAEL,S.|FOR HIRE VEHICLE|     30-06-2024|             3VBFRRI0|        2023-08-13|        2023|        (646)780-0129|1515 THIRD STREET...|70c1c14c25|  04-06-2024 13:25:00|    Chevrolet|       basic|\n",
            "|     0|                  NULL|       WILLIAMS,JOHN|FOR HIRE VEHICLE|     27-06-2025|             46L1E9HK|        2015-07-27|        2015|        (718)384-4444|95-11 JAMAICA AVE...|b4d924f3c1|  04-06-2024 13:25:00|     Cadillac|     premium|\n",
            "|     1|                  NULL|    RODRIGUEZ,ARTURO|FOR HIRE VEHICLE|     11-12-2024|             6YF7DLBB|        2011-06-16|        2011|        (646)780-0129|1515 THIRD STREET...|74eccd883a|  04-06-2024 13:25:00|      Ferrari|    high_end|\n",
            "|     1|                  NULL|      MAHMOOD,KHALID|FOR HIRE VEHICLE|     21-04-2025|             BDGUC2A7|        2023-12-09|        2023|        (646)780-0129|1515 THIRD STREET...|5b0a6a1609|  04-06-2024 13:25:00|        Tesla|    high_end|\n",
            "|     0|                  NULL|ARIZONA,TRANSPORT...|FOR HIRE VEHICLE|     30-06-2025|             WUBLVHP8|        2020-06-18|        2020|        (646)780-0129|1515 THIRD STREET...|ac263d5c86|  04-06-2024 13:25:00|      Ferrari|    high_end|\n",
            "|     1|                  NULL|      BAYNVYKH,BORIS|FOR HIRE VEHICLE|     11-02-2026|             4OK4DFH0|        2023-02-04|        2023|        (212)343-0300|282 AVENUE U BROO...|f955144dbe|  04-06-2024 13:25:00|       Nissan|       basic|\n",
            "|     0|                  NULL|    NARVAEZ,,LUIS,,A|FOR HIRE VEHICLE|     18-10-2025|             KEJCJVJQ|        2024-04-17|        2024|        (212)923-6800|609 WEST  175 STR...|a764df3606|  04-06-2024 13:25:00|    Chevrolet|       basic|\n",
            "|     1|                  NULL|         SINGH,DALIP|FOR HIRE VEHICLE|     01-04-2026|             CS4EGMUD|        2020-12-01|        2020|        (718)361-7290|25-20   39 AVENUE...|ba43316800|  04-06-2024 13:25:00|     Cadillac|     premium|\n",
            "|     1|                  NULL|        MOREL,JOSE,W|FOR HIRE VEHICLE|     23-12-2025|             FTOPRTS4|        2021-02-21|        2021|        (646)780-0129|1515 THIRD STREET...|0cddef5e72|  04-06-2024 13:25:00|       Toyota|       basic|\n",
            "|     1|                  NULL|          LUNG KEVIN|FOR HIRE VEHICLE|     20-03-2025|             UGBHAYOY|        2017-08-12|        2017|        (646)780-0129|1515 THIRD STREET...|5ddce7c94b|  04-06-2024 13:25:00|        Honda|       basic|\n",
            "|     0|                  NULL|      CHUNG,LOK,MING|FOR HIRE VEHICLE|     14-08-2025|             ZPI5IPNW|        2019-04-06|        2019|        (415)475-8459|441    9 AVENUE 2...|dc02c4410d|  04-06-2024 13:25:00|      Ferrari|    high_end|\n",
            "|     1|                  NULL|     HIDALGO,PEDRO,A|FOR HIRE VEHICLE|     30-06-2025|             V5LNW77E|        2020-03-13|        2020|        (718)633-1554|1751 BATH AVENUE ...|1be74cd98c|  04-06-2024 13:25:00|    Chevrolet|       basic|\n",
            "|     1|                  NULL|     SERRATO,LUIS,H.|FOR HIRE VEHICLE|     10-04-2025|             J27VT35H|        2019-03-25|        2019|        (646)780-0129|1515 THIRD STREET...|37e35afde3|  04-06-2024 13:25:00|      Ferrari|    high_end|\n",
            "|     1|                  NULL|     SINGH,BHUPINDER|FOR HIRE VEHICLE|     14-04-2025|             OPGQV7EQ|        2016-01-06|        2016|        (718)472-2300|32-72 GALE AVENUE...|23946ae284|  04-06-2024 13:25:00|Mercedes-Benz|     premium|\n",
            "|     1|                  NULL|     SINGH,KULWINDER|FOR HIRE VEHICLE|     23-08-2025|             LUCA6EA5|        2017-08-02|        2017|        (718)472-2300|32-72 GALE AVENUE...|895194ec7b|  04-06-2024 13:25:00|     Cadillac|     premium|\n",
            "|     1|                  NULL|        PERALTA,SAUL|FOR HIRE VEHICLE|     30-06-2025|             JB26BCB4|        2023-06-28|        2023|        (917)415-8580|8 W 126TH STREET ...|3f62286365|  04-06-2024 13:25:00|        Honda|       basic|\n",
            "|     1|                  NULL| RAMCHARAN,KRISHNA,P|FOR HIRE VEHICLE|     02-06-2025|             IYQC9KPK|        2010-04-04|        2010|        (718)633-1554|1751 BATH AVENUE ...|152374a062|  04-06-2024 13:25:00|        Honda|       basic|\n",
            "|     1|                  NULL|     LUKASZEWICZ,JAN|FOR HIRE VEHICLE|     26-12-2025|             11B8R6D9|        2014-06-05|        2014|        (646)780-0129|1515 THIRD STREET...|b5d76d91e9|  04-06-2024 13:25:00|          BMW|     premium|\n",
            "+------+----------------------+--------------------+----------------+---------------+---------------------+------------------+------------+---------------------+--------------------+----------+---------------------+-------------+------------+\n",
            "only showing top 20 rows\n",
            "\n"
          ]
        }
      ]
    },
    {
      "cell_type": "code",
      "source": [
        "from pyspark.sql import SparkSession\n",
        "from pyspark.sql.functions import col, count, sum, avg, max, min, countDistinct, to_timestamp, datediff, hour, date_format, when, round\n",
        "from pyspark.sql.types import *\n",
        "from pyspark.sql.window import Window\n",
        "\n",
        "# Data Processing\n",
        "# Convert string timestamps to timestamp type and calculate rental duration in hours\n",
        "rental_txn_df = rental_txn_df.withColumn(\"rental_start_time\", to_timestamp(col(\"rental_start_time\"), \"yyyy-MM-dd HH:mm:ss\")) \\\n",
        "                            .withColumn(\"rental_end_time\", to_timestamp(col(\"rental_end_time\"), \"yyyy-MM-dd HH:mm:ss\"))\n",
        "\n",
        "rental_txn_df = rental_txn_df.withColumn(\n",
        "    \"rental_duration_hours\",\n",
        "    (col(\"rental_end_time\").cast(\"long\") - col(\"rental_start_time\").cast(\"long\")) / 3600\n",
        ")\n",
        "\n",
        "# Convert location IDs to string for joining\n",
        "rental_txn_df = rental_txn_df.withColumn(\"pickup_location\", col(\"pickup_location\").cast(\"string\")) \\\n",
        "                            .withColumn(\"dropoff_location\", col(\"dropoff_location\").cast(\"string\"))\n",
        "\n",
        "# Extract date from rental_start_time for daily metrics\n",
        "rental_txn_df = rental_txn_df.withColumn(\"rental_date\", date_format(col(\"rental_start_time\"), \"yyyy-MM-dd\"))\n",
        "\n",
        "# Join with vehicles to get vehicle type information\n",
        "rental_vehicle_df = rental_txn_df.join(vehicles_df, on=\"vehicle_id\", how=\"left\")\n",
        "\n",
        "# 1. LOCATION AND VEHICLE PERFORMANCE KPIs\n",
        "\n",
        "# Total revenue per location (using pickup location)\n",
        "total_revenue_per_location = rental_txn_df.groupBy(\"pickup_location\") \\\n",
        "    .agg(sum(\"total_amount\").alias(\"total_revenue\"),\n",
        "         count(\"rental_id\").alias(\"total_transactions\"),\n",
        "         avg(\"total_amount\").alias(\"avg_transaction_amount\"),\n",
        "         max(\"total_amount\").alias(\"max_transaction_amount\"),\n",
        "         min(\"total_amount\").alias(\"min_transaction_amount\"),\n",
        "         countDistinct(\"vehicle_id\").alias(\"unique_vehicles\"))\n",
        "\n",
        "# Join with location names\n",
        "total_revenue_per_location = total_revenue_per_location.join(\n",
        "    locations_df,\n",
        "    total_revenue_per_location.pickup_location == locations_df.location_id,\n",
        "    \"left\"\n",
        ").select(\n",
        "    col(\"pickup_location\"),\n",
        "    col(\"location_name\"),\n",
        "    col(\"total_revenue\"),\n",
        "    col(\"total_transactions\"),\n",
        "    col(\"avg_transaction_amount\"),\n",
        "    col(\"max_transaction_amount\"),\n",
        "    col(\"min_transaction_amount\"),\n",
        "    col(\"unique_vehicles\")\n",
        ")\n",
        "\n",
        "# Rental duration metrics by vehicle type\n",
        "rental_duration_by_vehicle_type = rental_vehicle_df.groupBy(\"vehicle_type\") \\\n",
        "    .agg(avg(\"rental_duration_hours\").alias(\"avg_rental_duration\"),\n",
        "         max(\"rental_duration_hours\").alias(\"max_rental_duration\"),\n",
        "         min(\"rental_duration_hours\").alias(\"min_rental_duration\"),\n",
        "         sum(\"total_amount\").alias(\"total_revenue\"),\n",
        "         count(\"rental_id\").alias(\"total_rentals\"))\n",
        "\n",
        "# 2. USER AND TRANSACTION METRICS KPIs\n",
        "\n",
        "# Total daily transactions and revenue\n",
        "daily_transactions = rental_txn_df.groupBy(\"rental_date\") \\\n",
        "    .agg(count(\"rental_id\").alias(\"total_transactions\"),\n",
        "         sum(\"total_amount\").alias(\"total_revenue\"))\n",
        "\n",
        "# Overall average transaction value\n",
        "avg_transaction_value = rental_txn_df.agg(avg(\"total_amount\").alias(\"avg_transaction_value\"))\n",
        "\n",
        "# User engagement metrics\n",
        "user_metrics = rental_txn_df.groupBy(\"user_id\") \\\n",
        "    .agg(count(\"rental_id\").alias(\"total_transactions\"),\n",
        "         sum(\"total_amount\").alias(\"total_revenue\"),\n",
        "         avg(\"total_amount\").alias(\"avg_spending\"),\n",
        "         max(\"total_amount\").alias(\"max_spending\"),\n",
        "         min(\"total_amount\").alias(\"min_spending\"),\n",
        "         sum(\"rental_duration_hours\").alias(\"total_rental_hours\"))\n",
        "\n",
        "# Join with user information\n",
        "user_metrics = user_metrics.join(users_df, on=\"user_id\", how=\"left\") \\\n",
        "    .select(\"user_id\", \"first_name\", \"last_name\", \"email\",\n",
        "            \"total_transactions\", \"total_revenue\", \"avg_spending\",\n",
        "            \"max_spending\", \"min_spending\", \"total_rental_hours\")\n",
        "\n",
        "# Show the results\n",
        "print(\"Location and Vehicle Performance:\")\n",
        "total_revenue_per_location.show(truncate=False)\n",
        "rental_duration_by_vehicle_type.show(truncate=False)\n",
        "\n",
        "print(\"\\nUser and Transaction Metrics:\")\n",
        "daily_transactions.show(truncate=False)\n",
        "avg_transaction_value.show(truncate=False)\n",
        "user_metrics.show(truncate=False)\n",
        "\n",
        "# Write results to Parquet format (if required)\n",
        "# total_revenue_per_location.write.mode(\"overwrite\").parquet(\"s3://your-bucket/output/total_revenue_per_location\")\n",
        "# rental_duration_by_vehicle_type.write.mode(\"overwrite\").parquet(\"s3://your-bucket/output/rental_duration_by_vehicle_type\")\n",
        "# daily_transactions.write.mode(\"overwrite\").parquet(\"s3://your-bucket/output/daily_transactions\")\n",
        "# avg_transaction_value.write.mode(\"overwrite\").parquet(\"s3://your-bucket/output/avg_transaction_value\")\n",
        "# user_metrics.write.mode(\"overwrite\").parquet(\"s3://your-bucket/output/user_metrics\")\n",
        "\n",
        "# Additional Analysis: Top revenue-generating locations\n",
        "top_revenue_locations = total_revenue_per_location.orderBy(col(\"total_revenue\").desc())\n",
        "\n",
        "# Most rented vehicle types\n",
        "most_rented_vehicle_types = rental_vehicle_df.groupBy(\"vehicle_type\") \\\n",
        "    .agg(count(\"rental_id\").alias(\"total_rentals\")) \\\n",
        "    .orderBy(col(\"total_rentals\").desc())\n",
        "\n",
        "# Top spending users\n",
        "top_spending_users = user_metrics.orderBy(col(\"total_revenue\").desc())\n",
        "\n",
        "print(\"\\nTop Revenue Generating Locations:\")\n",
        "top_revenue_locations.show(5, truncate=False)\n",
        "\n",
        "print(\"\\nMost Rented Vehicle Types:\")\n",
        "most_rented_vehicle_types.show(truncate=False)\n",
        "\n",
        "print(\"\\nTop Spending Users:\")\n",
        "top_spending_users.show(5, truncate=False)"
      ],
      "metadata": {
        "colab": {
          "base_uri": "https://localhost:8080/"
        },
        "id": "wDjKwKZ6fnUO",
        "outputId": "793116ce-0d9c-4b78-c318-2fcb9fcf96f3"
      },
      "execution_count": 39,
      "outputs": [
        {
          "output_type": "stream",
          "name": "stdout",
          "text": [
            "Location and Vehicle Performance:\n",
            "+---------------+------------------------------+-------------+------------------+----------------------+----------------------+----------------------+---------------+\n",
            "|pickup_location|location_name                 |total_revenue|total_transactions|avg_transaction_amount|max_transaction_amount|min_transaction_amount|unique_vehicles|\n",
            "+---------------+------------------------------+-------------+------------------+----------------------+----------------------+----------------------+---------------+\n",
            "|2136           |Grant-Miller                  |57330.0      |61                |939.8360655737705     |3450.0                |40.0                  |61             |\n",
            "|2294           |Kelly, Gonzales and Stevens   |32180.0      |52                |618.8461538461538     |2600.0                |10.0                  |52             |\n",
            "|5149           |Salazar, Powell and Wilson    |46990.0      |70                |671.2857142857143     |3450.0                |50.0                  |70             |\n",
            "|2034           |Kennedy-Peck                  |45430.0      |62                |732.741935483871      |3400.0                |20.0                  |62             |\n",
            "|3057           |Barr-Stevens                  |39690.0      |57                |696.3157894736842     |2500.0                |50.0                  |57             |\n",
            "|3895           |Walsh Ltd                     |57150.0      |74                |772.2972972972973     |3300.0                |10.0                  |74             |\n",
            "|2495           |Cooper, Middleton and Williams|47560.0      |57                |834.3859649122807     |3600.0                |30.0                  |57             |\n",
            "|5498           |Gilmore-Thompson              |48850.0      |61                |800.8196721311475     |3250.0                |110.0                 |61             |\n",
            "|4856           |Jones, Ponce and Mccall       |68850.0      |86                |800.5813953488372     |3100.0                |40.0                  |86             |\n",
            "|6091           |Logan, Kim and Armstrong      |41930.0      |55                |762.3636363636364     |3350.0                |110.0                 |55             |\n",
            "|7434           |Richards Inc                  |60900.0      |65                |936.9230769230769     |3600.0                |20.0                  |65             |\n",
            "|1158           |Hendrix LLC                   |54720.0      |69                |793.0434782608696     |3500.0                |20.0                  |69             |\n",
            "|6609           |Stewart Inc                   |59340.0      |78                |760.7692307692307     |3050.0                |20.0                  |78             |\n",
            "|1496           |Paul-Hall                     |61480.0      |74                |830.8108108108108     |3600.0                |10.0                  |74             |\n",
            "|2363           |Bonilla-James                 |55470.0      |69                |803.9130434782609     |3300.0                |20.0                  |69             |\n",
            "|2683           |Holmes, Graham and Boyd       |51050.0      |61                |836.8852459016393     |3450.0                |40.0                  |61             |\n",
            "|2863           |Daniels, Gardner and Ramirez  |46540.0      |63                |738.7301587301587     |3500.0                |20.0                  |63             |\n",
            "|1497           |Terry Inc                     |62870.0      |70                |898.1428571428571     |3600.0                |20.0                  |70             |\n",
            "|4179           |Shelton LLC                   |53530.0      |62                |863.3870967741935     |3400.0                |10.0                  |62             |\n",
            "|3406           |Martin-Wood                   |38000.0      |50                |760.0                 |3000.0                |20.0                  |50             |\n",
            "+---------------+------------------------------+-------------+------------------+----------------------+----------------------+----------------------+---------------+\n",
            "only showing top 20 rows\n",
            "\n",
            "+------------+-------------------+-------------------+-------------------+-------------+-------------+\n",
            "|vehicle_type|avg_rental_duration|max_rental_duration|min_rental_duration|total_revenue|total_rentals|\n",
            "+------------+-------------------+-------------------+-------------------+-------------+-------------+\n",
            "|high_end    |36.900498753117205 |72.0               |1.0                |7398550.0    |4010         |\n",
            "|basic       |36.59878955995461  |72.0               |1.0                |2902650.0    |7931         |\n",
            "|premium     |36.24167588155793  |72.0               |1.0                |5899420.0    |8139         |\n",
            "+------------+-------------------+-------------------+-------------------+-------------+-------------+\n",
            "\n",
            "\n",
            "User and Transaction Metrics:\n",
            "+-----------+------------------+-------------+\n",
            "|rental_date|total_transactions|total_revenue|\n",
            "+-----------+------------------+-------------+\n",
            "|2024-01-19 |115               |93910.0      |\n",
            "|2024-04-03 |124               |101350.0     |\n",
            "|2024-02-28 |144               |104200.0     |\n",
            "|2024-02-08 |135               |106030.0     |\n",
            "|2024-01-13 |124               |96870.0      |\n",
            "|2024-02-20 |135               |92140.0      |\n",
            "|2024-04-10 |116               |92940.0      |\n",
            "|2024-01-06 |146               |106830.0     |\n",
            "|2024-04-14 |121               |102620.0     |\n",
            "|2024-04-07 |131               |86340.0      |\n",
            "|2024-03-03 |119               |103190.0     |\n",
            "|2024-05-19 |123               |103530.0     |\n",
            "|2024-02-04 |131               |118110.0     |\n",
            "|2024-04-27 |153               |131680.0     |\n",
            "|2024-02-15 |123               |93950.0      |\n",
            "|2024-03-26 |126               |107160.0     |\n",
            "|2024-02-12 |127               |97180.0      |\n",
            "|2024-02-26 |141               |110810.0     |\n",
            "|2024-05-24 |123               |107760.0     |\n",
            "|2024-01-14 |134               |91030.0      |\n",
            "+-----------+------------------+-------------+\n",
            "only showing top 20 rows\n",
            "\n",
            "+---------------------+\n",
            "|avg_transaction_value|\n",
            "+---------------------+\n",
            "|806.8037848605578    |\n",
            "+---------------------+\n",
            "\n",
            "+----------+----------+---------+----------------------------+------------------+-------------+-----------------+------------+------------+------------------+\n",
            "|user_id   |first_name|last_name|email                       |total_transactions|total_revenue|avg_spending     |max_spending|min_spending|total_rental_hours|\n",
            "+----------+----------+---------+----------------------------+------------------+-------------+-----------------+------------+------------+------------------+\n",
            "|5144945047|Dorothy   |Cline    |dorothy.cline@gmail.com     |3                 |1640.0       |546.6666666666666|690.0       |400.0       |144.0             |\n",
            "|0e672a709e|Richard   |Glover   |richard.glover@gmail.com    |2                 |1280.0       |640.0            |680.0       |600.0       |80.0              |\n",
            "|a39cfd7ab5|Jimmy     |Steele   |jimmy.steele@gmail.com      |1                 |510.0        |510.0            |510.0       |510.0       |51.0              |\n",
            "|010ad799a1|Jessica   |Davis    |jessica.davis@yahoo.com     |1                 |1440.0       |1440.0           |1440.0      |1440.0      |72.0              |\n",
            "|b31a334b34|Nancy     |Murphy   |nancy.murphy@gmail.com      |2                 |1470.0       |735.0            |1020.0      |450.0       |96.0              |\n",
            "|d8583ddc9e|Jessica   |Rodgers  |jessica.rodgers@hotmail.com |2                 |560.0        |280.0            |460.0       |100.0       |51.0              |\n",
            "|3caefcaa02|Evan      |Dunn     |evan.dunn@yahoo.com         |1                 |3500.0       |3500.0           |3500.0      |3500.0      |70.0              |\n",
            "|fea0119e06|Brittany  |Parker   |brittany.parker@hotmail.com |1                 |3200.0       |3200.0           |3200.0      |3200.0      |64.0              |\n",
            "|5c6f9fec4e|John      |White    |john.white@gmail.com        |2                 |1440.0       |720.0            |1180.0      |260.0       |85.0              |\n",
            "|4f8a44e2f4|Thomas    |Morgan   |thomas.morgan@hotmail.com   |1                 |1400.0       |1400.0           |1400.0      |1400.0      |28.0              |\n",
            "|a93737c73f|Stephanie |Dunn     |stephanie.dunn@gmail.com    |1                 |250.0        |250.0            |250.0       |250.0       |25.0              |\n",
            "|c6feed07b9|Angela    |Hernandez|angela.hernandez@hotmail.com|2                 |570.0        |285.0            |450.0       |120.0       |15.0              |\n",
            "|b93679007c|Jennifer  |Fritz    |jennifer.fritz@hotmail.com  |1                 |100.0        |100.0            |100.0       |100.0       |5.0               |\n",
            "|879b91b696|Madeline  |Snyder   |madeline.snyder@hotmail.com |1                 |1200.0       |1200.0           |1200.0      |1200.0      |60.0              |\n",
            "|3dc7fa3eb1|Julia     |Arnold   |julia.arnold@hotmail.com    |3                 |1280.0       |426.6666666666667|490.0       |360.0       |128.0             |\n",
            "|8b9c9c9595|Daniel    |Barker   |daniel.barker@yahoo.com     |2                 |900.0        |450.0            |720.0       |180.0       |54.0              |\n",
            "|ad77dd3a1c|Ryan      |Shaffer  |ryan.shaffer@yahoo.com      |2                 |930.0        |465.0            |750.0       |180.0       |33.0              |\n",
            "|433991741b|Edward    |Fisher   |edward.fisher@hotmail.com   |1                 |30.0         |30.0             |30.0        |30.0        |3.0               |\n",
            "|abc86646a2|Lee       |Lindsey  |lee.lindsey@gmail.com       |2                 |1240.0       |620.0            |900.0       |340.0       |79.0              |\n",
            "|d601306de9|Teresa    |Flores   |teresa.flores@hotmail.com   |1                 |550.0        |550.0            |550.0       |550.0       |55.0              |\n",
            "+----------+----------+---------+----------------------------+------------------+-------------+-----------------+------------+------------+------------------+\n",
            "only showing top 20 rows\n",
            "\n",
            "\n",
            "Top Revenue Generating Locations:\n",
            "+---------------+------------------------+-------------+------------------+----------------------+----------------------+----------------------+---------------+\n",
            "|pickup_location|location_name           |total_revenue|total_transactions|avg_transaction_amount|max_transaction_amount|min_transaction_amount|unique_vehicles|\n",
            "+---------------+------------------------+-------------+------------------+----------------------+----------------------+----------------------+---------------+\n",
            "|4380           |Bean LLC                |88170.0      |88                |1001.9318181818181    |3600.0                |20.0                  |88             |\n",
            "|8573           |Jefferson-Bryan         |76470.0      |72                |1062.0833333333333    |3600.0                |20.0                  |72             |\n",
            "|3784           |Green, Greer and Wyatt  |75090.0      |78                |962.6923076923077     |3500.0                |10.0                  |78             |\n",
            "|5402           |Jenkins, Valdez and Sims|73760.0      |82                |899.5121951219512     |3600.0                |20.0                  |82             |\n",
            "|9853           |Rogers-Joyce            |73280.0      |73                |1003.8356164383562    |3600.0                |40.0                  |73             |\n",
            "+---------------+------------------------+-------------+------------------+----------------------+----------------------+----------------------+---------------+\n",
            "only showing top 5 rows\n",
            "\n",
            "\n",
            "Most Rented Vehicle Types:\n",
            "+------------+-------------+\n",
            "|vehicle_type|total_rentals|\n",
            "+------------+-------------+\n",
            "|premium     |8139         |\n",
            "|basic       |7931         |\n",
            "|high_end    |4010         |\n",
            "+------------+-------------+\n",
            "\n",
            "\n",
            "Top Spending Users:\n",
            "+----------+-----------+---------+----------------------------+------------------+-------------+------------------+------------+------------+------------------+\n",
            "|user_id   |first_name |last_name|email                       |total_transactions|total_revenue|avg_spending      |max_spending|min_spending|total_rental_hours|\n",
            "+----------+-----------+---------+----------------------------+------------------+-------------+------------------+------------+------------+------------------+\n",
            "|04bbfa06f1|Anthony    |Price    |anthony.price@yahoo.com     |3                 |9050.0       |3016.6666666666665|3450.0      |2300.0      |181.0             |\n",
            "|6915c7b4e7|Kristen    |Gonzales |kristen.gonzales@gmail.com  |3                 |8000.0       |2666.6666666666665|3500.0      |1400.0      |202.0             |\n",
            "|fcffe6c9ce|Doris      |Michael  |doris.michael@hotmail.com   |3                 |7950.0       |2650.0            |3300.0      |1750.0      |159.0             |\n",
            "|530097b70c|Morgan     |Chen     |morgan.chen@hotmail.com     |3                 |7600.0       |2533.3333333333335|3450.0      |1450.0      |152.0             |\n",
            "|c6063c85a5|Christopher|Harper   |christopher.harper@yahoo.com|3                 |7470.0       |2490.0            |3350.0      |1120.0      |183.0             |\n",
            "+----------+-----------+---------+----------------------------+------------------+-------------+------------------+------------+------------+------------------+\n",
            "only showing top 5 rows\n",
            "\n"
          ]
        }
      ]
    },
    {
      "cell_type": "code",
      "source": [],
      "metadata": {
        "id": "T83N-uHui4RL"
      },
      "execution_count": null,
      "outputs": []
    }
  ]
}